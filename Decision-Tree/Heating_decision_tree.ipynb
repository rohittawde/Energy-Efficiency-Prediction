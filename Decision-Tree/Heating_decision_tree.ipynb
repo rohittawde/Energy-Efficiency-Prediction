{
 "cells": [
  {
   "cell_type": "markdown",
   "metadata": {},
   "source": [
    "## Regression Trees\n",
    "\n",
    "Regression tree is a class of non linear predictive models, which broadly comes under prediction trees along with it's better known cousin decision trees which are used for classifiaction. Our goal is to make predictions `Y` based on the input features `X1, X2, X3, ..., Xn`. The tree is grown by generating a binary decision tree which is obtained by splitting one particular feature `Xi` on that particular node. Depending on the evaluation on the splitting node the prediction proceeds either left or right. This process occurs recurssively until we reach the end or the leaf node. Predictions are made at the leaf node which are averages of all the instances which reach that particular leaf.\n",
    "\n",
    "The motivation behind choosing this algorithm is usually it's simplicity and the ability to capture intricate interactions within the features. Linear and polynomial regression might perfectly fit within small segments within the data but thety might not generalize as well on the entire dataset. This is where decision trees prove to be useful.\n",
    "Predictive trees are adaptive nearenst neighbours since they are not just similar as far as the input space is concerned but they are also similar within the responses. Another advantage is that unlike KNN where `k` is constant everywhere they can be skewed in any way they want which provides more flexibility and better predictions."
   ]
  },
  {
   "cell_type": "markdown",
   "metadata": {},
   "source": [
    "The general idea behind building optimal decision trees is is maximizing the information gain. Since it cannot be posed as a direct maximization problem a local greedy search at each level or node. This however requires the evaluation of a metric like information gain, misclassification rate or gini impurity which are defined for discrete variables. Within continuous variables for node m, representing a region $R_m$ with $N_m$ observations mean squared errors or the mean absolute error are employed which minimize the L2 and L1 errors respectively.\n",
    "\n",
    "$c_m = \\frac{1}{N_m}\\sum yi $ \n",
    "- Mean squared error $H(X_m) = \\frac{1}{N_m} \\sum (y_i - c_m)^{2}$\n",
    "- Mean absolute error $H(X_m) = \\frac{1}{N_m} \\sum |y_i - c_m|$\n",
    "\n",
    "where $i \\subset N_m $ and $X_m$ is the training data in node m"
   ]
  },
  {
   "cell_type": "code",
   "execution_count": 1,
   "metadata": {
    "collapsed": true
   },
   "outputs": [],
   "source": [
    "import numpy as np\n",
    "import pandas as pd\n",
    "import scipy.stats as stats\n",
    "import matplotlib.pyplot as plt\n",
    "import sklearn"
   ]
  },
  {
   "cell_type": "code",
   "execution_count": 4,
   "metadata": {
    "collapsed": true
   },
   "outputs": [],
   "source": [
    "heating = pd.read_csv(\"heating_1.csv\")"
   ]
  },
  {
   "cell_type": "code",
   "execution_count": 5,
   "metadata": {},
   "outputs": [
    {
     "data": {
      "text/html": [
       "<div>\n",
       "<style>\n",
       "    .dataframe thead tr:only-child th {\n",
       "        text-align: right;\n",
       "    }\n",
       "\n",
       "    .dataframe thead th {\n",
       "        text-align: left;\n",
       "    }\n",
       "\n",
       "    .dataframe tbody tr th {\n",
       "        vertical-align: top;\n",
       "    }\n",
       "</style>\n",
       "<table border=\"1\" class=\"dataframe\">\n",
       "  <thead>\n",
       "    <tr style=\"text-align: right;\">\n",
       "      <th></th>\n",
       "      <th>X1</th>\n",
       "      <th>X2</th>\n",
       "      <th>X3</th>\n",
       "      <th>X4</th>\n",
       "      <th>X5</th>\n",
       "      <th>X6</th>\n",
       "      <th>X7</th>\n",
       "      <th>X8</th>\n",
       "      <th>Y1</th>\n",
       "    </tr>\n",
       "  </thead>\n",
       "  <tbody>\n",
       "    <tr>\n",
       "      <th>0</th>\n",
       "      <td>0.98</td>\n",
       "      <td>514.5</td>\n",
       "      <td>294.0</td>\n",
       "      <td>110.25</td>\n",
       "      <td>7.0</td>\n",
       "      <td>2</td>\n",
       "      <td>0.0</td>\n",
       "      <td>0</td>\n",
       "      <td>15.55</td>\n",
       "    </tr>\n",
       "    <tr>\n",
       "      <th>1</th>\n",
       "      <td>0.98</td>\n",
       "      <td>514.5</td>\n",
       "      <td>294.0</td>\n",
       "      <td>110.25</td>\n",
       "      <td>7.0</td>\n",
       "      <td>3</td>\n",
       "      <td>0.0</td>\n",
       "      <td>0</td>\n",
       "      <td>15.55</td>\n",
       "    </tr>\n",
       "    <tr>\n",
       "      <th>2</th>\n",
       "      <td>0.98</td>\n",
       "      <td>514.5</td>\n",
       "      <td>294.0</td>\n",
       "      <td>110.25</td>\n",
       "      <td>7.0</td>\n",
       "      <td>4</td>\n",
       "      <td>0.0</td>\n",
       "      <td>0</td>\n",
       "      <td>15.55</td>\n",
       "    </tr>\n",
       "    <tr>\n",
       "      <th>3</th>\n",
       "      <td>0.98</td>\n",
       "      <td>514.5</td>\n",
       "      <td>294.0</td>\n",
       "      <td>110.25</td>\n",
       "      <td>7.0</td>\n",
       "      <td>5</td>\n",
       "      <td>0.0</td>\n",
       "      <td>0</td>\n",
       "      <td>15.55</td>\n",
       "    </tr>\n",
       "    <tr>\n",
       "      <th>4</th>\n",
       "      <td>0.90</td>\n",
       "      <td>563.5</td>\n",
       "      <td>318.5</td>\n",
       "      <td>122.50</td>\n",
       "      <td>7.0</td>\n",
       "      <td>2</td>\n",
       "      <td>0.0</td>\n",
       "      <td>0</td>\n",
       "      <td>20.84</td>\n",
       "    </tr>\n",
       "  </tbody>\n",
       "</table>\n",
       "</div>"
      ],
      "text/plain": [
       "     X1     X2     X3      X4   X5  X6   X7  X8     Y1\n",
       "0  0.98  514.5  294.0  110.25  7.0   2  0.0   0  15.55\n",
       "1  0.98  514.5  294.0  110.25  7.0   3  0.0   0  15.55\n",
       "2  0.98  514.5  294.0  110.25  7.0   4  0.0   0  15.55\n",
       "3  0.98  514.5  294.0  110.25  7.0   5  0.0   0  15.55\n",
       "4  0.90  563.5  318.5  122.50  7.0   2  0.0   0  20.84"
      ]
     },
     "execution_count": 5,
     "metadata": {},
     "output_type": "execute_result"
    }
   ],
   "source": [
    "heating.head()"
   ]
  },
  {
   "cell_type": "code",
   "execution_count": 6,
   "metadata": {
    "collapsed": true
   },
   "outputs": [],
   "source": [
    "from sklearn.model_selection import train_test_split\n",
    "Y = heating['Y1']\n",
    "X = heating.drop('Y1',axis = 1)\n",
    "X_train, X_test, Y_train, Y_test = train_test_split(X,Y)"
   ]
  },
  {
   "cell_type": "code",
   "execution_count": 31,
   "metadata": {
    "collapsed": true
   },
   "outputs": [],
   "source": [
    "from sklearn import tree\n",
    "clf = tree.DecisionTreeRegressor(max_depth = 6)\n",
    "clf = clf.fit(X_train, Y_train)"
   ]
  },
  {
   "cell_type": "code",
   "execution_count": 32,
   "metadata": {},
   "outputs": [
    {
     "name": "stdout",
     "output_type": "stream",
     "text": [
      "RMSE on the test data\n",
      "0.553373945611\n"
     ]
    }
   ],
   "source": [
    "pred_test = clf.predict(X_test)\n",
    "mse = np.mean((Y_test - pred_test)**2) \n",
    "print(\"RMSE on the test data\")\n",
    "print(np.sqrt(mse))"
   ]
  },
  {
   "cell_type": "code",
   "execution_count": 28,
   "metadata": {},
   "outputs": [
    {
     "name": "stdout",
     "output_type": "stream",
     "text": [
      "RMSE on the train data\n",
      "1.43329176165e-16\n"
     ]
    }
   ],
   "source": [
    "pred_train = clf.predict(X_train)\n",
    "mse = np.mean((Y_train - pred_train)**2) \n",
    "print(\"RMSE on the train data\")\n",
    "print(np.sqrt(mse))"
   ]
  },
  {
   "cell_type": "markdown",
   "metadata": {
    "collapsed": true
   },
   "source": [
    "There are many stopping criteria which can be used to prevent decision tree from growing to an extent that they overfit the data. The most commmon ones are stopping when the split isn't statistically significant or placing constraints on the minimum number of data points in the leaf nodes. Although these approaches work well there is always a chance of early stopping resulting in a sub optimal tree. The reason lies in information theory which can be illustrated by considering some features which aren't very informative themselves but they lead to meaningful splits down the line. The usual way to find the optimal depth is allowing the tree to grow to a certain depth and then pruning it back until the error stops decreasing. This ensures that the tree is expressive enough to generalize well without overfitting or underfitting. "
   ]
  },
  {
   "cell_type": "code",
   "execution_count": 49,
   "metadata": {
    "collapsed": true
   },
   "outputs": [],
   "source": [
    "train_plot = []\n",
    "test_plot = []\n",
    "for i in range(3,10):\n",
    "    clf = tree.DecisionTreeRegressor(max_depth = i)\n",
    "    clf = clf.fit(X_train, Y_train)\n",
    "    pred_test = clf.predict(X_test)\n",
    "    test_plot.append(np.mean((Y_test - pred_test)**2)) \n",
    "    pred_train = clf.predict(X_train)\n",
    "    train_plot.append(np.mean((Y_train - pred_train)**2)) "
   ]
  },
  {
   "cell_type": "code",
   "execution_count": 55,
   "metadata": {},
   "outputs": [
    {
     "data": {
      "image/png": "[encoded data removed]",
      "text/plain": [
       "<matplotlib.figure.Figure at 0xf52c588>"
      ]
     },
     "metadata": {},
     "output_type": "display_data"
    }
   ],
   "source": [
    "plt.figure()\n",
    "plt.scatter(np.linspace(3,9, 7), test_plot, c = 'red', label = 'test')\n",
    "plt.scatter(np.linspace(3,9, 7), train_plot, c = 'green', label = 'training')\n",
    "plt.xlabel('Depth')\n",
    "plt.ylabel('RMSE')\n",
    "plt.legend()\n",
    "plt.show()\n",
    "#np.linspace(1, 20, 20)\n"
   ]
  },
  {
   "cell_type": "code",
   "execution_count": 56,
   "metadata": {},
   "outputs": [
    {
     "data": {
      "text/plain": [
       "[5.839713097387098,\n",
       " 2.5320982927712143,\n",
       " 0.9899489963322893,\n",
       " 0.30622272368146014,\n",
       " 0.23067004356361162,\n",
       " 0.23422199580453962,\n",
       " 0.24609460491366672]"
      ]
     },
     "execution_count": 56,
     "metadata": {},
     "output_type": "execute_result"
    }
   ],
   "source": [
    "test_plot"
   ]
  },
  {
   "cell_type": "code",
   "execution_count": 58,
   "metadata": {
    "collapsed": true
   },
   "outputs": [],
   "source": [
    "Y = np.log(heating['Y1'].values)\n",
    "X_train, X_test, Y_train_trans, Y_test_trans = train_test_split(X,Y)\n",
    "clf = clf.fit(X_train, Y_train_trans)"
   ]
  },
  {
   "cell_type": "code",
   "execution_count": 61,
   "metadata": {},
   "outputs": [
    {
     "name": "stdout",
     "output_type": "stream",
     "text": [
      "RMSE on the test data\n",
      "0.0221791344887\n"
     ]
    }
   ],
   "source": [
    "pred_test = clf.predict(X_test)\n",
    "mse = np.mean((Y_test_trans - pred_test)**2) \n",
    "print(\"RMSE on the test data\")\n",
    "print(np.sqrt(mse))"
   ]
  },
  {
   "cell_type": "code",
   "execution_count": 62,
   "metadata": {},
   "outputs": [
    {
     "name": "stdout",
     "output_type": "stream",
     "text": [
      "RMSE on the train data\n",
      "0.0074477269626\n"
     ]
    }
   ],
   "source": [
    "pred_train = clf.predict(X_train)\n",
    "mse = np.mean((Y_train_trans - pred_train)**2) \n",
    "print(\"RMSE on the train data\")\n",
    "print(np.sqrt(mse))"
   ]
  },
  {
   "cell_type": "code",
   "execution_count": 71,
   "metadata": {},
   "outputs": [
    {
     "data": {
      "image/png": "[encoded data removed]",
      "text/plain": [
       "<matplotlib.figure.Figure at 0xf691f98>"
      ]
     },
     "metadata": {},
     "output_type": "display_data"
    }
   ],
   "source": [
    "plt.scatter(Y_test_trans, pred_test, c = 'blue')\n",
    "plt.title('Test predictions vs Actual values')\n",
    "plt.show()"
   ]
  },
  {
   "cell_type": "code",
   "execution_count": 70,
   "metadata": {},
   "outputs": [
    {
     "data": {
      "image/png": "[encoded data removed]",
      "text/plain": [
       "<matplotlib.figure.Figure at 0x1044bf98>"
      ]
     },
     "metadata": {},
     "output_type": "display_data"
    }
   ],
   "source": [
    "plt.scatter(Y_train_trans, pred_train, c = 'blue')\n",
    "plt.title('Train predictions vs Actual values')\n",
    "plt.show()"
   ]
  },
  {
   "cell_type": "markdown",
   "metadata": {
    "collapsed": true
   },
   "source": [
    "Referances:\n",
    "Scikit-learn: Machine Learning in Python, Pedregosa et al., JMLR 12, pp. 2825-2830, 2011\n",
    "L. Breiman, J. Friedman, R. Olshen, and C. Stone. Classification and Regression Trees. Wadsworth, Belmont, CA, 1984."
   ]
  },
  {
   "cell_type": "code",
   "execution_count": null,
   "metadata": {
    "collapsed": true
   },
   "outputs": [],
   "source": []
  }
 ],
 "metadata": {
  "kernelspec": {
   "display_name": "Python 3",
   "language": "python",
   "name": "python3"
  },
  "language_info": {
   "codemirror_mode": {
    "name": "ipython",
    "version": 3
   },
   "file_extension": ".py",
   "mimetype": "text/x-python",
   "name": "python",
   "nbconvert_exporter": "python",
   "pygments_lexer": "ipython3",
   "version": "3.6.5"
  }
 },
 "nbformat": 4,
 "nbformat_minor": 2
}
